{
 "cells": [
  {
   "cell_type": "code",
   "execution_count": null,
   "id": "2abde051",
   "metadata": {},
   "outputs": [],
   "source": [
    "def graph(n, nodes):\n",
    "    g = {}\n",
    "    for i in nodes:\n",
    "        g[i] = set()\n",
    "    return g\n",
    "\n",
    "def addNode(g, new):\n",
    "    g[new] = set()\n",
    "\n",
    "def addEdge(g, node1, node2):\n",
    "    g[node1].add(node2)\n",
    "    g[node2].add(node1)\n",
    "\n",
    "def BFS(g, start, goal):\n",
    "    q1 = [start]\n",
    "    q2 = []\n",
    "    visited = []\n",
    "    while(q1):\n",
    "        q1.push(g[start])\n",
    "        val = q1.pop(0)\n",
    "        if val not in visited:\n",
    "            q2.push(val)\n",
    "    print(q2)\n",
    "    "
   ]
  },
  {
   "cell_type": "code",
   "execution_count": null,
   "id": "6a2392be",
   "metadata": {},
   "outputs": [],
   "source": [
    "while True:\n",
    "    ch = int(input(\"1.Create Graph\\n2.Add a node\\n3.Add an edge\\n4.Print Graph\\n5.Print AdjacencyList\\n6.BFS\\n7.DFS\\n10.exit\\nEnter your choice:\"))\n",
    "    if(ch == 1):\n",
    "        n = int(input(\"Enter no. of nodes:\"))\n",
    "        nodes = list(input(\"Enter the nodes:\").split(\" \"))\n",
    "        g = graph(n, nodes)\n",
    "    elif(ch == 2):\n",
    "        new = input(\"Enter new node:\")\n",
    "        if new not in nodes:\n",
    "            nodes.append(new)\n",
    "            addNode(g, new)\n",
    "            print(\">>>Node added!\")\n",
    "        else:\n",
    "            print(\">>>Node already exists!\")\n",
    "    elif(ch == 3):\n",
    "        node1 = input(\"Node 1:\")\n",
    "        node2 = input(\"Node 2:\")\n",
    "        if node1 in nodes and node2 in nodes:\n",
    "            addEdge(g,node1,node2)\n",
    "            print(\">>>Edge added!\")\n",
    "        else:\n",
    "            print(\">>>Invalid Nodes!\")\n",
    "    elif(ch == 4):\n",
    "        print(g)\n",
    "    elif(ch == 5):\n",
    "        node = input(\"Enter node:\")\n",
    "        if node in nodes:\n",
    "            print(node,\" : \",g[node])\n",
    "        else:\n",
    "            print(\"Invalid Node!\")\n",
    "    elif(ch == 6):\n",
    "        start = input(\"Enter Start node:\")\n",
    "        goal = input(\"Enter goal node:\")\n",
    "        path = BFS(g, start, goal)\n",
    "    else:\n",
    "        break"
   ]
  }
 ],
 "metadata": {
  "kernelspec": {
   "display_name": "Python 3 (ipykernel)",
   "language": "python",
   "name": "python3"
  },
  "language_info": {
   "codemirror_mode": {
    "name": "ipython",
    "version": 3
   },
   "file_extension": ".py",
   "mimetype": "text/x-python",
   "name": "python",
   "nbconvert_exporter": "python",
   "pygments_lexer": "ipython3",
   "version": "3.9.7"
  }
 },
 "nbformat": 4,
 "nbformat_minor": 5
}
