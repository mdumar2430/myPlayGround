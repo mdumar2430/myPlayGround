{
 "cells": [
  {
   "cell_type": "code",
   "execution_count": 8,
   "id": "d2f94c50",
   "metadata": {},
   "outputs": [
    {
     "data": {
      "text/html": [
       "<div>\n",
       "<style scoped>\n",
       "    .dataframe tbody tr th:only-of-type {\n",
       "        vertical-align: middle;\n",
       "    }\n",
       "\n",
       "    .dataframe tbody tr th {\n",
       "        vertical-align: top;\n",
       "    }\n",
       "\n",
       "    .dataframe thead th {\n",
       "        text-align: right;\n",
       "    }\n",
       "</style>\n",
       "<table border=\"1\" class=\"dataframe\">\n",
       "  <thead>\n",
       "    <tr style=\"text-align: right;\">\n",
       "      <th></th>\n",
       "      <th>outlook</th>\n",
       "      <th>Temperature</th>\n",
       "      <th>Humidity</th>\n",
       "      <th>Wind</th>\n",
       "      <th>Play Tennis</th>\n",
       "    </tr>\n",
       "  </thead>\n",
       "  <tbody>\n",
       "    <tr>\n",
       "      <th>0</th>\n",
       "      <td>Sunny</td>\n",
       "      <td>Hot</td>\n",
       "      <td>High</td>\n",
       "      <td>Weak</td>\n",
       "      <td>No</td>\n",
       "    </tr>\n",
       "    <tr>\n",
       "      <th>1</th>\n",
       "      <td>Sunny</td>\n",
       "      <td>Hot</td>\n",
       "      <td>High</td>\n",
       "      <td>Strong</td>\n",
       "      <td>No</td>\n",
       "    </tr>\n",
       "    <tr>\n",
       "      <th>2</th>\n",
       "      <td>Overcast</td>\n",
       "      <td>Mild</td>\n",
       "      <td>High</td>\n",
       "      <td>Weak</td>\n",
       "      <td>Yes</td>\n",
       "    </tr>\n",
       "    <tr>\n",
       "      <th>3</th>\n",
       "      <td>Rain</td>\n",
       "      <td>Mild</td>\n",
       "      <td>Normal</td>\n",
       "      <td>Weak</td>\n",
       "      <td>Yes</td>\n",
       "    </tr>\n",
       "    <tr>\n",
       "      <th>4</th>\n",
       "      <td>Rain</td>\n",
       "      <td>Cool</td>\n",
       "      <td>Normal</td>\n",
       "      <td>Strong</td>\n",
       "      <td>Yes</td>\n",
       "    </tr>\n",
       "  </tbody>\n",
       "</table>\n",
       "</div>"
      ],
      "text/plain": [
       "    outlook Temperature Humidity    Wind Play Tennis\n",
       "0     Sunny         Hot     High    Weak          No\n",
       "1     Sunny         Hot     High  Strong          No\n",
       "2  Overcast        Mild     High    Weak         Yes\n",
       "3      Rain        Mild   Normal    Weak         Yes\n",
       "4      Rain        Cool   Normal  Strong         Yes"
      ]
     },
     "execution_count": 8,
     "metadata": {},
     "output_type": "execute_result"
    }
   ],
   "source": [
    "import pandas as pd\n",
    "outlook = ['Sunny','Sunny','Overcast','Rain','Rain']\n",
    "df = pd.DataFrame(outlook, columns = ['outlook'])\n",
    "df['Temperature'] = ['Hot', 'Hot', 'Mild','Mild','Cool']\n",
    "df['Humidity'] = ['High', 'High', 'High', 'Normal', 'Normal']\n",
    "df['Wind'] = ['Weak', 'Strong','Weak','Weak','Strong']\n",
    "df['Play Tennis'] = ['No', 'No', 'Yes', 'Yes', 'Yes']\n",
    "df"
   ]
  },
  {
   "cell_type": "code",
   "execution_count": 12,
   "id": "0f63404d",
   "metadata": {},
   "outputs": [
    {
     "data": {
      "text/plain": [
       "0.9709505944546686"
      ]
     },
     "execution_count": 12,
     "metadata": {},
     "output_type": "execute_result"
    }
   ],
   "source": [
    "import math as m\n",
    "rows, cols = df.shape[0], df.shape[1]\n",
    "py = df['Play Tennis'].value_counts()['Yes']/rows\n",
    "pn = df['Play Tennis'].value_counts()['No']/rows\n",
    "entropy_total = -((py * m.log2(py)) + (pn * m.log2(pn)))"
   ]
  },
  {
   "cell_type": "code",
   "execution_count": 52,
   "id": "24105224",
   "metadata": {},
   "outputs": [
    {
     "name": "stdout",
     "output_type": "stream",
     "text": [
      "(0.01997309402197489, 'Wind')\n"
     ]
    }
   ],
   "source": [
    "info_gain = []\n",
    "colnames = df.columns[:-1]\n",
    "target = df.iloc[:,-1].unique()\n",
    "for i in colnames:\n",
    "    res = 0\n",
    "    unique = df[i].unique()\n",
    "    for j in unique:\n",
    "        n = []\n",
    "        for k in target:\n",
    "            n.append(df.loc[(df[i] == j) & (df.iloc[:,-1] == k)].shape[0])\n",
    "        total = sum(n)\n",
    "        pn_yes = n[1]/total\n",
    "        pn_no = n[0]/total\n",
    "        if(pn_yes != 0 and pn_no != 0):\n",
    "            n_entropy = -((pn_yes * m.log2(pn_yes)) + (pn_no * m.log2(pn_no)))\n",
    "        else:\n",
    "            n_entropy = 0\n",
    "        res += (total/rows)* n_entropy\n",
    "    info = entropy_total - res\n",
    "    info_gain.append((info, i))\n",
    "print(min(info_gain))\n",
    "       "
   ]
  }
 ],
 "metadata": {
  "kernelspec": {
   "display_name": "Python 3 (ipykernel)",
   "language": "python",
   "name": "python3"
  },
  "language_info": {
   "codemirror_mode": {
    "name": "ipython",
    "version": 3
   },
   "file_extension": ".py",
   "mimetype": "text/x-python",
   "name": "python",
   "nbconvert_exporter": "python",
   "pygments_lexer": "ipython3",
   "version": "3.9.7"
  }
 },
 "nbformat": 4,
 "nbformat_minor": 5
}
