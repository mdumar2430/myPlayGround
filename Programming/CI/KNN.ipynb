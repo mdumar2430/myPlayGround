{
 "cells": [
  {
   "cell_type": "code",
   "execution_count": 6,
   "id": "8e915808",
   "metadata": {},
   "outputs": [],
   "source": [
    "height = [158,158,158,160,160,163,163,160,163,165,165,165,168,168,168,170,170,170]\n",
    "weight = [58,59,63,59,60,60,61,64,64,61,62,65,62,63,66,63,64,68]\n",
    "size =['M','M','M','M','M','M','M','L','L','L','L','L','L','L','L','L','L','L']"
   ]
  },
  {
   "cell_type": "code",
   "execution_count": 14,
   "id": "5b6e51c8",
   "metadata": {},
   "outputs": [
    {
     "name": "stdout",
     "output_type": "stream",
     "text": [
      "Enter Height:170\n",
      "Enter Weight:66\n",
      "Enter K value:5\n",
      "Size: L\n"
     ]
    }
   ],
   "source": [
    "import math\n",
    "h = int(input(\"Enter Height:\"))\n",
    "w = int(input(\"Enter Weight:\"))\n",
    "k = int(input(\"Enter K value:\"))\n",
    "final = []\n",
    "for i in range(len(size)):\n",
    "    dist = math.sqrt((height[i]-h)**2 + (weight[i]-w)**2)\n",
    "    final.append((dist, size[i]))\n",
    "final = sorted(final)[:k]\n",
    "m_count = 0\n",
    "l_count= 0\n",
    "for i in final:\n",
    "    if i[1] == 'M':\n",
    "        m_count+=1\n",
    "    else:\n",
    "        l_count+=1\n",
    "if m_count> l_count:\n",
    "    print(\"Size: M\")\n",
    "else:\n",
    "    print(\"Size: L\")"
   ]
  }
 ],
 "metadata": {
  "kernelspec": {
   "display_name": "Python 3 (ipykernel)",
   "language": "python",
   "name": "python3"
  },
  "language_info": {
   "codemirror_mode": {
    "name": "ipython",
    "version": 3
   },
   "file_extension": ".py",
   "mimetype": "text/x-python",
   "name": "python",
   "nbconvert_exporter": "python",
   "pygments_lexer": "ipython3",
   "version": "3.9.7"
  }
 },
 "nbformat": 4,
 "nbformat_minor": 5
}
