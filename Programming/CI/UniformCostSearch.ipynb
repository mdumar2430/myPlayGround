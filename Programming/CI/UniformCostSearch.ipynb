{
 "cells": [
  {
   "cell_type": "code",
   "execution_count": 6,
   "id": "83639993",
   "metadata": {},
   "outputs": [],
   "source": [
    "def initGraph(n, nodes):\n",
    "    g = {}\n",
    "    for i in nodes:\n",
    "        g[i] = {}\n",
    "    return g\n",
    "\n",
    "def addEdge(g, n1, n2, c):\n",
    "    g[n1][n2] = c\n",
    "    g[n2][n1] = c\n",
    "    \n",
    "def addNode(g, new):\n",
    "    g[new] = {}\n",
    "\n",
    "def UCS(g, start, goal):\n",
    "    f_list =[[0,[start]]]\n",
    "    visited_edge = []\n",
    "    while True:\n",
    "        val = f_list.pop(0)\n",
    "        node = val[1][-1]\n",
    "        cost = val[0]\n",
    "        if node == goal:\n",
    "            return (val[1], cost)           \n",
    "        for i in g[node]:\n",
    "            if (node, i) not in visited_edge and (i, node) not in visited_edge:\n",
    "                temp = val[1].copy()\n",
    "                temp.append(i)\n",
    "                f_list.append([g[node][i]+cost,temp])\n",
    "                visited_edge.append((node, i))\n",
    "        f_list = sorted(f_list)"
   ]
  },
  {
   "cell_type": "code",
   "execution_count": null,
   "id": "02e6dcc6",
   "metadata": {},
   "outputs": [
    {
     "name": "stdout",
     "output_type": "stream",
     "text": [
      "\n",
      "1. Initialize Graph\n",
      "2. Add Edge\n",
      "3. Add Node\n",
      "4. Print Graph\n",
      "5.UCS\n",
      "8. Exit\n",
      "5\n",
      "Start node:1\n",
      "Goal node:4\n",
      "['1', '2', '4'] >min_cost= 4.0\n",
      "\n",
      "1. Initialize Graph\n",
      "2. Add Edge\n",
      "3. Add Node\n",
      "4. Print Graph\n",
      "5.UCS\n",
      "8. Exit\n"
     ]
    }
   ],
   "source": [
    "while True:\n",
    "    print(\"\\n1. Initialize Graph\\n2. Add Edge\\n3. Add Node\\n4. Print Graph\\n5.UCS\\n8. Exit\")\n",
    "    ch = int(input())\n",
    "    if(ch == 1):\n",
    "        n = int(input(\"Enter no. of Nodes:\"))\n",
    "        nodes = list(input(\"Enter nodes:\"))\n",
    "        g = initGraph(n, nodes)\n",
    "    elif(ch == 2):\n",
    "        node1 = input(\"Enter node 1:\")\n",
    "        node2 = input(\"Enter node 2:\")\n",
    "        cost = float(input(\"Enter path cost:\"))\n",
    "        if node1 in nodes and node2 in nodes:\n",
    "            addEdge(g, node1, node2, cost)\n",
    "            print(\"----> Edge added!\")\n",
    "        else:\n",
    "            print(\"----> Edge not added!\")\n",
    "    elif(ch == 3):\n",
    "        new = input(\"Enter new node:\")\n",
    "        if new not in nodes:\n",
    "            addNode(g, new)\n",
    "            print(\"----> Node Added!\")\n",
    "        else:\n",
    "            print(\"----> Node  not Added!\")\n",
    "    elif(ch == 4):\n",
    "        print(g)\n",
    "    elif(ch == 5):\n",
    "        start = input(\"Start node:\")\n",
    "        goal = input(\"Goal node:\")\n",
    "        path = UCS(g, start, goal)\n",
    "        print(path[1], \">min_cost=\",path[0])\n",
    "    else:\n",
    "        break"
   ]
  },
  {
   "cell_type": "code",
   "execution_count": null,
   "id": "1e73e879",
   "metadata": {},
   "outputs": [],
   "source": []
  }
 ],
 "metadata": {
  "kernelspec": {
   "display_name": "Python 3 (ipykernel)",
   "language": "python",
   "name": "python3"
  },
  "language_info": {
   "codemirror_mode": {
    "name": "ipython",
    "version": 3
   },
   "file_extension": ".py",
   "mimetype": "text/x-python",
   "name": "python",
   "nbconvert_exporter": "python",
   "pygments_lexer": "ipython3",
   "version": "3.9.7"
  }
 },
 "nbformat": 4,
 "nbformat_minor": 5
}
