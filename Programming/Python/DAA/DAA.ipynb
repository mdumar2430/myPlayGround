{
 "cells": [
  {
   "cell_type": "code",
   "execution_count": 25,
   "metadata": {},
   "outputs": [
    {
     "name": "stdout",
     "output_type": "stream",
     "text": [
      "Enter size:2w\n"
     ]
    },
    {
     "ename": "ValueError",
     "evalue": "invalid literal for int() with base 10: '2w'",
     "output_type": "error",
     "traceback": [
      "\u001b[1;31m---------------------------------------------------------------------------\u001b[0m",
      "\u001b[1;31mValueError\u001b[0m                                Traceback (most recent call last)",
      "\u001b[1;32m<ipython-input-25-a2addd250856>\u001b[0m in \u001b[0;36m<module>\u001b[1;34m\u001b[0m\n\u001b[0;32m     12\u001b[0m     \u001b[1;32mreturn\u001b[0m \u001b[0mres\u001b[0m\u001b[1;33m\u001b[0m\u001b[1;33m\u001b[0m\u001b[0m\n\u001b[0;32m     13\u001b[0m \u001b[1;33m\u001b[0m\u001b[0m\n\u001b[1;32m---> 14\u001b[1;33m \u001b[0mn\u001b[0m\u001b[1;33m=\u001b[0m\u001b[0mint\u001b[0m\u001b[1;33m(\u001b[0m\u001b[0minput\u001b[0m\u001b[1;33m(\u001b[0m\u001b[1;34m\"Enter size:\"\u001b[0m\u001b[1;33m)\u001b[0m\u001b[1;33m)\u001b[0m\u001b[1;33m\u001b[0m\u001b[1;33m\u001b[0m\u001b[0m\n\u001b[0m\u001b[0;32m     15\u001b[0m \u001b[0marr\u001b[0m\u001b[1;33m=\u001b[0m\u001b[1;33m[\u001b[0m\u001b[1;33m]\u001b[0m\u001b[1;33m\u001b[0m\u001b[1;33m\u001b[0m\u001b[0m\n\u001b[0;32m     16\u001b[0m \u001b[1;32mfor\u001b[0m \u001b[0mi\u001b[0m \u001b[1;32min\u001b[0m \u001b[0mrange\u001b[0m\u001b[1;33m(\u001b[0m\u001b[0mn\u001b[0m\u001b[1;33m)\u001b[0m\u001b[1;33m:\u001b[0m\u001b[1;33m\u001b[0m\u001b[1;33m\u001b[0m\u001b[0m\n",
      "\u001b[1;31mValueError\u001b[0m: invalid literal for int() with base 10: '2w'"
     ]
    }
   ],
   "source": [
    "import math\n",
    "\n",
    "def closestPair(arr):\n",
    "    res={\"p1\":arr[0],\"p2\":arr[1],\"min\":math.sqrt((arr[0][0]-arr[1][0])**2+(arr[0][1]-arr[1][1])**2)}\n",
    "    for i in range(len(arr)-1):\n",
    "        for j in range(i+1,len(arr)):\n",
    "            dist=math.sqrt((arr[i][0]-arr[j][0])**2+(arr[i][1]-arr[j][1])**2)\n",
    "            if dist<res[\"min\"]:\n",
    "                res[\"p1\"]=arr[i]\n",
    "                res[\"p2\"]=arr[j]\n",
    "                res[\"min\"]=dis\n",
    "    return res\n",
    "\n",
    "n=int(input(\"Enter size:\"))\n",
    "arr=[]\n",
    "for i in range(n):\n",
    "    x=int(input(\"Enter x:\"))\n",
    "    y=int(input(\"Enter y:\"))\n",
    "    arr.append([x,y])\n",
    "ans=closestPair(arr)\n",
    "print(\"Closest Pair:\",ans[\"p1\"],\"&\",ans[\"p2\"])\n",
    "print(\"Distance:\",ans[\"min\"])"
   ]
  },
  {
   "cell_type": "code",
   "execution_count": 68,
   "metadata": {},
   "outputs": [
    {
     "name": "stdout",
     "output_type": "stream",
     "text": [
      "Enter size: 4\n",
      "8\n",
      "6\n",
      "2\n",
      "5\n",
      "[2, 5, 6, 8]\n"
     ]
    }
   ],
   "source": [
    "def qsort(A, l, r):\n",
    "        if r-1<=l:\n",
    "                return ()\n",
    "        l1=l+1\n",
    "        for l2 in range (l+1,r):\n",
    "                if A[l2]<A[l]:\n",
    "                        (A[l1],A[l2])=(A[l2],A[l1])\n",
    "                        l1=l1+1\n",
    "        A[l],A[l1-1]=A[l1-1],A[l]\n",
    "        qsort(A,l,l1-1)\n",
    "        qsort(A,l1,r)\n",
    "\n",
    "\n",
    "n = int(input(\"Enter size: \"))\n",
    "l = []\n",
    "for i in range(n):\n",
    "        l.append(int(input()))\n",
    "\n",
    "qsort(l, 0, n)\n",
    "print(l)"
   ]
  },
  {
   "cell_type": "code",
   "execution_count": 33,
   "metadata": {},
   "outputs": [
    {
     "data": {
      "text/plain": [
       "{'H': 3, 'E': 2, 'L': 1}"
      ]
     },
     "execution_count": 33,
     "metadata": {},
     "output_type": "execute_result"
    }
   ],
   "source": [
    "def shitTable(pat):\n",
    "    table={}\n",
    "    m=len(pat)-1\n",
    "    for i in range(m):\n",
    "        table[pat[i]]=m-i\n",
    "    return table\n",
    "\n",
    "def horspool(text,pat):\n",
    "    shiftTable(pat)\n",
    "    plen=len(pat)\n",
    "    tlen=len(text)\n",
    "    i=plen-1\n",
    "    while i<=tlen-1:\n",
    "        match=0\n",
    "        while match<=plen-1 and pat[plen-i-match]==text[i-match]:\n",
    "            match=match+1\n",
    "        if match==plen:\n",
    "            return i-match+1\n",
    "        else:\n",
    "            if text[i] in table:\n",
    "                i=i+table[text[i]]\n",
    "            else:\n",
    "                i=i+plen\n",
    "    return -1\n",
    "        "
   ]
  },
  {
   "cell_type": "code",
   "execution_count": 69,
   "metadata": {},
   "outputs": [
    {
     "name": "stdout",
     "output_type": "stream",
     "text": [
      "Enter size: 5\n",
      "3\n",
      "2\n",
      "6\n",
      "8\n",
      "9\n",
      "Unsorted Array:  [3, 2, 6, 8, 9]\n",
      "Sorted array:  [2, 3, 6, 8, 9]\n"
     ]
    }
   ],
   "source": [
    "def makeHeap(arr, size, iterator):\n",
    "        largest = iterator\n",
    "        left = 2 * iterator + 1\n",
    "        right = 2 * iterator + 2\n",
    "        if left < size and arr[largest] < arr[left]:\n",
    "                largest = left\n",
    "\n",
    "        if right < size and arr[largest] < arr[right]:\n",
    "                largest = right\n",
    "\n",
    "        if largest != iterator:\n",
    "                arr[iterator], arr[largest] = arr[largest], arr[iterator]  # swap\n",
    "                makeHeap(arr, size, largest)\n",
    "\n",
    "\n",
    "def heapSort(arr):\n",
    "        size = len(arr)\n",
    "        for iterator in range(size // 2 - 1, -1, -1):\n",
    "                makeHeap(arr, size, iterator)\n",
    "        for iterator in range(size - 1, 0, -1):\n",
    "                arr[iterator], arr[0] = arr[0], arr[iterator]  # swap\n",
    "                makeHeap(arr, iterator, 0)\n",
    "\n",
    "\n",
    "a = []\n",
    "n = int(input(\"Enter size: \"))\n",
    "for i in range(n):\n",
    "        a.append(int(input()))\n",
    "print(\"Unsorted Array: \", a)\n",
    "heapSort(a)\n",
    "print(\"Sorted array: \", a)"
   ]
  },
  {
   "cell_type": "code",
   "execution_count": 70,
   "metadata": {},
   "outputs": [
    {
     "name": "stdout",
     "output_type": "stream",
     "text": [
      "Enter size: 4\n",
      "2\n",
      "1\n",
      "3\n",
      "4\n",
      "Unsorted Array:  [2, 1, 3, 4]\n",
      "Sorted array:  [1, 2, 3, 4]\n"
     ]
    }
   ],
   "source": [
    "def makeHeap(arr,size,iterator):\n",
    "    largest=iterator\n",
    "    left=2*iterator+1\n",
    "    right=2*iterator+2\n",
    "    if left<size and arr[left]>arr[largest]:\n",
    "        largest=left\n",
    "    if right<size and arr[right]>arr[largest]:\n",
    "        largest=right\n",
    "    if largest!=iterator:\n",
    "        arr[largest],arr[iterator]=arr[iterator],arr[largest]\n",
    "        makeHeap(arr,size,largest)\n",
    "def heapsort(arr):\n",
    "    size=len(arr)\n",
    "    for iterator in range(size//2 -1,-1,-1):\n",
    "        makeHeap(arr,size,iterator)\n",
    "    for iterator in range(size-1,0,-1):\n",
    "        arr[iterator],arr[0]=arr[0],arr[iterator]\n",
    "        makeHeap(arr,iterator,0)\n",
    "    \n",
    "a = []\n",
    "n = int(input(\"Enter size: \"))\n",
    "for i in range(n):\n",
    "        a.append(int(input()))\n",
    "print(\"Unsorted Array: \", a)\n",
    "heapSort(a)\n",
    "print(\"Sorted array: \", a)"
   ]
  },
  {
   "cell_type": "code",
   "execution_count": 71,
   "metadata": {},
   "outputs": [
    {
     "name": "stdout",
     "output_type": "stream",
     "text": [
      "Enter size: 3\n",
      "2\n",
      "1\n",
      "3\n",
      "[1, 2, 3]\n"
     ]
    }
   ],
   "source": [
    "def qsort(A,l,r):\n",
    "    if r-1<=l:\n",
    "        return ()\n",
    "    l1=l+1\n",
    "    for l2 in range(l1,r):\n",
    "        if A[l2]<=A[l]:\n",
    "            (A[l1],A[l2])=(A[l2],A[l1])\n",
    "            l1=l1+1\n",
    "    (A[l],A[l1-1])=(A[l1-1],A[l])\n",
    "    qsort(A,l,l1-1)\n",
    "    qsort(A,l1,r)\n",
    "    \n",
    "n = int(input(\"Enter size: \"))\n",
    "l = []\n",
    "for i in range(n):\n",
    "        l.append(int(input()))\n",
    "\n",
    "qsort(l, 0, n)\n",
    "print(l)\n"
   ]
  },
  {
   "cell_type": "code",
   "execution_count": null,
   "metadata": {},
   "outputs": [],
   "source": []
  }
 ],
 "metadata": {
  "kernelspec": {
   "display_name": "Python 3",
   "language": "python",
   "name": "python3"
  },
  "language_info": {
   "codemirror_mode": {
    "name": "ipython",
    "version": 3
   },
   "file_extension": ".py",
   "mimetype": "text/x-python",
   "name": "python",
   "nbconvert_exporter": "python",
   "pygments_lexer": "ipython3",
   "version": "3.8.3"
  }
 },
 "nbformat": 4,
 "nbformat_minor": 4
}
